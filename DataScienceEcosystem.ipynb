{
 "cells": [
  {
   "cell_type": "markdown",
   "id": "addc358b-bcda-4802-b61e-fe7d6446cd6f",
   "metadata": {},
   "source": [
    "<h1>Data Science Tools and Ecosystem</h1>"
   ]
  },
  {
   "cell_type": "markdown",
   "id": "9dfd294e-86ec-4b1f-a22d-66af1deaba5e",
   "metadata": {},
   "source": [
    "In this notebook, Data Science Tools and Ecosystem are summarized."
   ]
  },
  {
   "cell_type": "markdown",
   "id": "f9d7f62f-f9a3-486c-8b2d-734d0894e0bf",
   "metadata": {},
   "source": [
    "<strong>Objectives:</strong><br>\n",
    "<ul>\n",
    " <li>list commonly used libraries in DS</li>\n",
    " <li>list copmmonly used langueages in DS</li>\n",
    " <li>list some popular tools for DS</li>\n",
    " <li>peform some basic arithmetic operations</li>\n",
    "</ul>"
   ]
  },
  {
   "cell_type": "markdown",
   "id": "3da9e1de-9ba3-4fb8-a574-91ae19a38b0f",
   "metadata": {},
   "source": [
    "Some of the popular languages that Data Scientists use are:<br>\n",
    "<ol>\n",
    " <li>Python</li>\n",
    " <li>R</li>\n",
    " <li>C/C++</li>\n",
    " <li>SQL</li>\n",
    "</ol>"
   ]
  },
  {
   "cell_type": "markdown",
   "id": "fc43d271-3c24-4546-863f-51ed565fd56c",
   "metadata": {},
   "source": [
    "Some of the commonly used libraries used by Data Scientists include:<br>\n",
    "<ol>\n",
    " <li>Pandas</li>\n",
    " <li>NumPy</li>\n",
    " <li>Matplotlib</li>\n",
    " <li>SciKit-Learn</li>\n",
    "</ol>"
   ]
  },
  {
   "cell_type": "markdown",
   "id": "07458bd8-8353-4919-adfc-b36790437347",
   "metadata": {},
   "source": [
    "|Data Science Tools|\n",
    "|------------------|\n",
    "|RStudio|\n",
    "|Apache Hadoop|\n",
    "|TensorFlow|"
   ]
  },
  {
   "cell_type": "markdown",
   "id": "ce89524f-1e59-493c-99c2-61d12d46f6f8",
   "metadata": {
    "tags": []
   },
   "source": [
    "<h3>Below are a few examples of evaluating arithmetic expressions in Python.</h3>"
   ]
  },
  {
   "cell_type": "code",
   "execution_count": 1,
   "id": "d73a6c6e-5159-486a-b9d3-8dbc0c6f4fad",
   "metadata": {},
   "outputs": [
    {
     "data": {
      "text/plain": [
       "17"
      ]
     },
     "execution_count": 1,
     "metadata": {},
     "output_type": "execute_result"
    }
   ],
   "source": [
    "# This a simple arithmetic expression to mutiply then add integers\n",
    "(3*4)+5"
   ]
  },
  {
   "cell_type": "code",
   "execution_count": 2,
   "id": "99562a66-a606-40a3-a0ec-884bab62e697",
   "metadata": {},
   "outputs": [
    {
     "data": {
      "text/plain": [
       "3.3333333333333335"
      ]
     },
     "execution_count": 2,
     "metadata": {},
     "output_type": "execute_result"
    }
   ],
   "source": [
    "# This will convert 200 minutes to hours by diving by 60\n",
    "200/60"
   ]
  },
  {
   "cell_type": "markdown",
   "id": "956047ec-482c-4081-8568-06dceddb0339",
   "metadata": {
    "tags": []
   },
   "source": [
    "<h2>Author</h2><br>\n",
    "Andrzej Zarnicki"
   ]
  }
 ],
 "metadata": {
  "kernelspec": {
   "display_name": "Python",
   "language": "python",
   "name": "conda-env-python-py"
  },
  "language_info": {
   "codemirror_mode": {
    "name": "ipython",
    "version": 3
   },
   "file_extension": ".py",
   "mimetype": "text/x-python",
   "name": "python",
   "nbconvert_exporter": "python",
   "pygments_lexer": "ipython3",
   "version": "3.7.12"
  }
 },
 "nbformat": 4,
 "nbformat_minor": 5
}
